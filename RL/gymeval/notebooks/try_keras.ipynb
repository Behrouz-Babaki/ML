{
 "cells": [
  {
   "cell_type": "code",
   "execution_count": 1,
   "metadata": {
    "collapsed": false,
    "scrolled": true
   },
   "outputs": [
    {
     "name": "stderr",
     "output_type": "stream",
     "text": [
      "Using TensorFlow backend.\n"
     ]
    }
   ],
   "source": [
    "import keras\n",
    "import numpy as np"
   ]
  },
  {
   "cell_type": "markdown",
   "metadata": {},
   "source": [
    "Createa a simple network. Interleave *training* and *prediction*."
   ]
  },
  {
   "cell_type": "code",
   "execution_count": 2,
   "metadata": {
    "collapsed": false
   },
   "outputs": [],
   "source": [
    "X = np.random.random((1000, 100))\n",
    "Y = np.random.random((1000, 10))"
   ]
  },
  {
   "cell_type": "code",
   "execution_count": 3,
   "metadata": {
    "collapsed": true
   },
   "outputs": [],
   "source": [
    "y_max = np.max(Y)\n",
    "y_min = np.min(Y)"
   ]
  },
  {
   "cell_type": "code",
   "execution_count": 4,
   "metadata": {
    "collapsed": true
   },
   "outputs": [],
   "source": [
    "from keras.models import Sequential\n",
    "from keras.layers import Dense, Activation, Lambda\n",
    "\n",
    "model = Sequential()\n",
    "model.add(Dense(output_dim=64, input_dim=100))\n",
    "model.add(Activation('relu'))\n",
    "model.add(Dense(output_dim=10))\n",
    "model.add(Activation('sigmoid'))\n",
    "model.add(Lambda(lambda x: x*(y_max-y_min)+y_min))\n"
   ]
  },
  {
   "cell_type": "code",
   "execution_count": 5,
   "metadata": {
    "collapsed": false
   },
   "outputs": [],
   "source": [
    "model.compile(loss='categorical_crossentropy', optimizer='sgd')"
   ]
  },
  {
   "cell_type": "code",
   "execution_count": 6,
   "metadata": {
    "collapsed": true
   },
   "outputs": [],
   "source": [
    "import numpy as np"
   ]
  },
  {
   "cell_type": "code",
   "execution_count": 7,
   "metadata": {
    "collapsed": true
   },
   "outputs": [],
   "source": [
    "X_test = np.random.random((40, 100))"
   ]
  },
  {
   "cell_type": "code",
   "execution_count": 8,
   "metadata": {
    "collapsed": true
   },
   "outputs": [],
   "source": [
    "X_batch = X[20:200, :]\n",
    "Y_batch = Y[20:200, :]"
   ]
  },
  {
   "cell_type": "code",
   "execution_count": 9,
   "metadata": {
    "collapsed": false
   },
   "outputs": [
    {
     "name": "stdout",
     "output_type": "stream",
     "text": [
      "(180, 100) (180, 10)\n"
     ]
    }
   ],
   "source": [
    "print(X_batch.shape, Y_batch.shape)"
   ]
  },
  {
   "cell_type": "code",
   "execution_count": 10,
   "metadata": {
    "collapsed": false
   },
   "outputs": [
    {
     "data": {
      "text/plain": [
       "11.542503"
      ]
     },
     "execution_count": 10,
     "metadata": {},
     "output_type": "execute_result"
    }
   ],
   "source": [
    "model.train_on_batch(X_batch, Y_batch)"
   ]
  },
  {
   "cell_type": "code",
   "execution_count": 11,
   "metadata": {
    "collapsed": false
   },
   "outputs": [],
   "source": [
    "classes = model.predict_on_batch(X_test)"
   ]
  },
  {
   "cell_type": "code",
   "execution_count": 12,
   "metadata": {
    "collapsed": false,
    "scrolled": true
   },
   "outputs": [
    {
     "data": {
      "text/plain": [
       "array([[ 0.40650117,  0.69025838,  0.5375452 ,  0.667804  ,  0.40761924,\n",
       "         0.47181302,  0.65774226,  0.36923257,  0.44826952,  0.57950372],\n",
       "       [ 0.37366253,  0.64902323,  0.58730245,  0.64523125,  0.49680948,\n",
       "         0.45563579,  0.7137602 ,  0.49380875,  0.39179903,  0.56786901],\n",
       "       [ 0.33627269,  0.70861059,  0.57150459,  0.65056139,  0.36826745,\n",
       "         0.35172895,  0.70394188,  0.39738619,  0.51295   ,  0.46468487],\n",
       "       [ 0.37374195,  0.59737641,  0.6881237 ,  0.73386014,  0.39224207,\n",
       "         0.3388885 ,  0.61597651,  0.59508616,  0.33420599,  0.61081505],\n",
       "       [ 0.40279856,  0.67856461,  0.49551895,  0.68668026,  0.46848056,\n",
       "         0.50291896,  0.71151751,  0.46526703,  0.37565157,  0.51341856],\n",
       "       [ 0.34593564,  0.66525131,  0.71302903,  0.68306762,  0.44225296,\n",
       "         0.36284021,  0.65932155,  0.47109139,  0.48325485,  0.51216644],\n",
       "       [ 0.40489325,  0.62172914,  0.66967368,  0.73214382,  0.41261584,\n",
       "         0.3770878 ,  0.64664406,  0.40904978,  0.40494928,  0.57957059],\n",
       "       [ 0.342538  ,  0.70189828,  0.61900836,  0.68619794,  0.44816995,\n",
       "         0.38022366,  0.63355476,  0.41884285,  0.34547764,  0.60801238],\n",
       "       [ 0.37308708,  0.65189588,  0.64152509,  0.6933924 ,  0.4735314 ,\n",
       "         0.39178124,  0.69590408,  0.38238817,  0.36248228,  0.54103416],\n",
       "       [ 0.30826908,  0.71808147,  0.59253955,  0.76295936,  0.39001632,\n",
       "         0.43073717,  0.72621071,  0.44405472,  0.36092591,  0.49978015],\n",
       "       [ 0.32165769,  0.67452788,  0.72735691,  0.71709591,  0.39900401,\n",
       "         0.44727874,  0.68355137,  0.44976264,  0.35777706,  0.38540053],\n",
       "       [ 0.3767713 ,  0.64873827,  0.62951475,  0.74505413,  0.44257602,\n",
       "         0.38622054,  0.69340611,  0.38065648,  0.35821021,  0.54499519],\n",
       "       [ 0.34662926,  0.59763801,  0.5988574 ,  0.76114148,  0.40543929,\n",
       "         0.41133922,  0.73589289,  0.41253909,  0.40616775,  0.58850455],\n",
       "       [ 0.39639235,  0.64147389,  0.68062967,  0.65849251,  0.50376815,\n",
       "         0.42854953,  0.597579  ,  0.45407566,  0.33204386,  0.46085742],\n",
       "       [ 0.43312225,  0.71390402,  0.55741739,  0.71024317,  0.42157334,\n",
       "         0.472038  ,  0.617773  ,  0.57984811,  0.35981265,  0.50289136],\n",
       "       [ 0.34689361,  0.67213643,  0.71456838,  0.7071932 ,  0.42320675,\n",
       "         0.41986138,  0.71098   ,  0.39851859,  0.35283276,  0.53922325],\n",
       "       [ 0.29576477,  0.70771253,  0.64988488,  0.69586962,  0.47861886,\n",
       "         0.49311474,  0.7014727 ,  0.39715153,  0.39830616,  0.61759895],\n",
       "       [ 0.3213079 ,  0.62854052,  0.73609942,  0.78809953,  0.47713262,\n",
       "         0.50334889,  0.70752007,  0.49066895,  0.27107131,  0.64663339],\n",
       "       [ 0.35576245,  0.63340968,  0.67249125,  0.74432677,  0.45560244,\n",
       "         0.36941326,  0.80258071,  0.41546535,  0.37598965,  0.46816674],\n",
       "       [ 0.3498691 ,  0.68372917,  0.57420838,  0.717969  ,  0.36245984,\n",
       "         0.45618001,  0.71975708,  0.37446401,  0.42857832,  0.48603421],\n",
       "       [ 0.39290637,  0.65321839,  0.49888176,  0.70056087,  0.42738268,\n",
       "         0.43854323,  0.6735642 ,  0.46026292,  0.3532778 ,  0.53084862],\n",
       "       [ 0.31576189,  0.67476887,  0.66679752,  0.66538864,  0.43023911,\n",
       "         0.42295432,  0.70136738,  0.48189902,  0.38371012,  0.43183547],\n",
       "       [ 0.37748447,  0.61145985,  0.65052229,  0.68676054,  0.40025061,\n",
       "         0.34172291,  0.69300085,  0.42016089,  0.4611553 ,  0.49101982],\n",
       "       [ 0.38616773,  0.57356191,  0.59849608,  0.6613822 ,  0.43468538,\n",
       "         0.41137698,  0.60883945,  0.54885191,  0.37381649,  0.54363835],\n",
       "       [ 0.36152858,  0.75144106,  0.67845076,  0.72554201,  0.4097276 ,\n",
       "         0.42916006,  0.74260116,  0.32058948,  0.46274659,  0.47339293],\n",
       "       [ 0.33967313,  0.56642497,  0.73388427,  0.72109216,  0.4196808 ,\n",
       "         0.35391831,  0.72418892,  0.45107323,  0.4123193 ,  0.55565143],\n",
       "       [ 0.35393393,  0.67866659,  0.70770431,  0.74506021,  0.35122314,\n",
       "         0.44294119,  0.7263642 ,  0.45977005,  0.40851203,  0.45398158],\n",
       "       [ 0.36557728,  0.62603182,  0.49471506,  0.63309389,  0.43394691,\n",
       "         0.36082628,  0.68312919,  0.51647735,  0.39957222,  0.42472339],\n",
       "       [ 0.38199601,  0.7125268 ,  0.710922  ,  0.69461584,  0.43104932,\n",
       "         0.38365418,  0.69515848,  0.43711203,  0.3710413 ,  0.569197  ],\n",
       "       [ 0.40262523,  0.67958665,  0.66155863,  0.7111299 ,  0.48836648,\n",
       "         0.42664546,  0.71866584,  0.36914718,  0.34779587,  0.52342916],\n",
       "       [ 0.33916873,  0.72166252,  0.71131015,  0.69438428,  0.42546007,\n",
       "         0.38574859,  0.72305757,  0.5222764 ,  0.44108579,  0.49491873],\n",
       "       [ 0.34676218,  0.59785241,  0.52615374,  0.59937936,  0.43582514,\n",
       "         0.3956691 ,  0.73886108,  0.51326525,  0.39588261,  0.4119978 ],\n",
       "       [ 0.39283288,  0.70218569,  0.66671747,  0.7161963 ,  0.478735  ,\n",
       "         0.41882959,  0.70031005,  0.38743576,  0.3567341 ,  0.53994304],\n",
       "       [ 0.38238195,  0.7019335 ,  0.6637671 ,  0.7232573 ,  0.4231346 ,\n",
       "         0.3189522 ,  0.69158053,  0.46459153,  0.42412645,  0.46877819],\n",
       "       [ 0.35729143,  0.64748847,  0.68261677,  0.78254122,  0.41997007,\n",
       "         0.35036913,  0.74547094,  0.38920051,  0.45787087,  0.44012395],\n",
       "       [ 0.41187319,  0.56431276,  0.680215  ,  0.5849793 ,  0.51281017,\n",
       "         0.40393406,  0.65845186,  0.43983179,  0.4306896 ,  0.54150689],\n",
       "       [ 0.37416145,  0.58878028,  0.65824574,  0.7285949 ,  0.47865036,\n",
       "         0.36330384,  0.6607064 ,  0.4745892 ,  0.32155028,  0.40678453],\n",
       "       [ 0.37572944,  0.70608485,  0.6941613 ,  0.74266368,  0.38409713,\n",
       "         0.3912929 ,  0.67417163,  0.48769665,  0.39200619,  0.56849635],\n",
       "       [ 0.38168436,  0.61939108,  0.77127671,  0.64387506,  0.49485466,\n",
       "         0.45340011,  0.61583692,  0.41064951,  0.30531752,  0.52748698],\n",
       "       [ 0.37417367,  0.66666168,  0.64501101,  0.68451101,  0.53217828,\n",
       "         0.48621833,  0.69032454,  0.55329901,  0.36292663,  0.52824432]], dtype=float32)"
      ]
     },
     "execution_count": 12,
     "metadata": {},
     "output_type": "execute_result"
    }
   ],
   "source": [
    "classes"
   ]
  },
  {
   "cell_type": "code",
   "execution_count": 13,
   "metadata": {
    "collapsed": false,
    "scrolled": true
   },
   "outputs": [
    {
     "data": {
      "text/plain": [
       "11.532831"
      ]
     },
     "execution_count": 13,
     "metadata": {},
     "output_type": "execute_result"
    }
   ],
   "source": [
    "model.train_on_batch(X_batch, Y_batch)"
   ]
  },
  {
   "cell_type": "code",
   "execution_count": 14,
   "metadata": {
    "collapsed": true
   },
   "outputs": [],
   "source": [
    "classes = model.predict_on_batch(X_test)"
   ]
  },
  {
   "cell_type": "code",
   "execution_count": 29,
   "metadata": {
    "collapsed": false
   },
   "outputs": [],
   "source": [
    "from keras import backend as K\n",
    "\n",
    "X = np.random.random((1000, 100))\n",
    "Y = np.random.random((1000,))\n",
    "\n",
    "y_max = np.max(Y)\n",
    "y_min = np.min(Y)\n",
    "\n",
    "# create actions\n",
    "a = np.random.randint(10, size=1000)\n",
    "A = np.zeros((1000, 10))\n",
    "A[np.arange(1000), a] = 1\n",
    "\n",
    "model = Sequential()\n",
    "model.add(Dense(output_dim=64, input_dim=100))\n",
    "model.add(Activation('relu'))\n",
    "model.add(Dense(output_dim=10))\n",
    "model.add(Activation('sigmoid'))\n",
    "model.add(Lambda(lambda x: x*(y_max-y_min)+y_min))\n",
    "\n",
    "from keras.layers import Input, Merge\n",
    "from keras.models import Model\n",
    "actions_input = Input(shape=(10,))\n",
    "actions = Model(actions_input, actions_input)\n",
    "\n",
    "merged = Merge([model, actions], \n",
    "               mode=lambda x: K.batch_dot(x[0], x[1], axes=1),\n",
    "               output_shape=(None,))\n",
    "model = Sequential()\n",
    "model.add(merged)\n",
    "\n",
    "model.compile(loss='mean_squared_error', optimizer='sgd')"
   ]
  },
  {
   "cell_type": "code",
   "execution_count": 30,
   "metadata": {
    "collapsed": false
   },
   "outputs": [
    {
     "name": "stdout",
     "output_type": "stream",
     "text": [
      "Epoch 1/10\n",
      "1000/1000 [==============================] - 0s - loss: 0.0922     \n",
      "Epoch 2/10\n",
      "1000/1000 [==============================] - 0s - loss: 0.0907     \n",
      "Epoch 3/10\n",
      "1000/1000 [==============================] - 0s - loss: 0.0896     \n",
      "Epoch 4/10\n",
      "1000/1000 [==============================] - 0s - loss: 0.0887     \n",
      "Epoch 5/10\n",
      "1000/1000 [==============================] - 0s - loss: 0.0878     \n",
      "Epoch 6/10\n",
      "1000/1000 [==============================] - 0s - loss: 0.0872     \n",
      "Epoch 7/10\n",
      "1000/1000 [==============================] - 0s - loss: 0.0866     \n",
      "Epoch 8/10\n",
      "1000/1000 [==============================] - 0s - loss: 0.0861     \n",
      "Epoch 9/10\n",
      "1000/1000 [==============================] - 0s - loss: 0.0858     \n",
      "Epoch 10/10\n",
      "1000/1000 [==============================] - 0s - loss: 0.0855     \n"
     ]
    },
    {
     "data": {
      "text/plain": [
       "<keras.callbacks.History at 0x7f147c951a20>"
      ]
     },
     "execution_count": 30,
     "metadata": {},
     "output_type": "execute_result"
    }
   ],
   "source": [
    "model.fit([X, A], Y)"
   ]
  }
 ],
 "metadata": {
  "kernelspec": {
   "display_name": "Python 3",
   "language": "python",
   "name": "python3"
  },
  "language_info": {
   "codemirror_mode": {
    "name": "ipython",
    "version": 3
   },
   "file_extension": ".py",
   "mimetype": "text/x-python",
   "name": "python",
   "nbconvert_exporter": "python",
   "pygments_lexer": "ipython3",
   "version": "3.4.3"
  }
 },
 "nbformat": 4,
 "nbformat_minor": 0
}
